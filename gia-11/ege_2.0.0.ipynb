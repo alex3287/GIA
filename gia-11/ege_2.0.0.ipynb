{
 "cells": [
  {
   "cell_type": "markdown",
   "metadata": {},
   "source": [
    "# Аналитика ЕГЭ  \n",
    "* версия 2.6\n",
    "* данная программа открывает файл (файлы) из папки ege и считывает данные (файлы в таблице *.xls).\n",
    "* программа создает новый файл в формате analytics.xlsx "
   ]
  },
  {
   "cell_type": "markdown",
   "metadata": {},
   "source": [
    "## Программа выдает статистику по следующим пунктам\n",
    "1. количество участников\n",
    "2. средний балл\n",
    "3. количество не сдавших экзамен\n",
    "4. количество набравших минимальный проходной балл\n",
    "5. количество высокобальников\n",
    "6. какой минимальный балл получили на экзамене\n",
    "7. какой максимальный балл получили на экзамене\n",
    "8. количество участников набравших соответствующий балл\n",
    "9. % выполнения отдельных заданий 1 части (в виде таблицы и графика)\n",
    "10. % выполнения отдельных заданий 2 части"
   ]
  },
  {
   "cell_type": "code",
   "execution_count": 1,
   "metadata": {},
   "outputs": [],
   "source": [
    "#подключаем библиотеки\n",
    "import os\n",
    "import pandas as pd\n",
    "import numpy as np"
   ]
  },
  {
   "cell_type": "markdown",
   "metadata": {},
   "source": [
    "### Считываем файлы из папки\n",
    "#### (файлы должны быть по одному предмету)"
   ]
  },
  {
   "cell_type": "code",
   "execution_count": 2,
   "metadata": {},
   "outputs": [
    {
     "name": "stdout",
     "output_type": "stream",
     "text": [
      "['./ege/рус.яз\\xa0— копия 46.xls', './ege/рус.яз\\xa0— копия 8.xls', './ege/рус.яз\\xa0— копия 9.xls', './ege/рус.яз\\xa0— копия 47.xls', './ege/рус.яз\\xa0— копия 45.xls', './ege/рус.яз\\xa0— копия 44.xls', './ege/рус.яз\\xa0— копия 40.xls', './ege/рус.яз\\xa0— копия 41.xls', './ege/рус.яз\\xa0— копия 43.xls', './ege/рус.яз\\xa0— копия 42.xls', './ege/рус.яз\\xa0— копия 19.xls', './ege/рус.яз\\xa0— копия 31.xls', './ege/рус.яз\\xa0— копия 25.xls', './ege/рус.яз.xls', './ege/рус.яз\\xa0— копия 24.xls', './ege/рус.яз\\xa0— копия 30.xls', './ege/рус.яз\\xa0— копия 18.xls', './ege/рус.яз\\xa0— копия 26.xls', './ege/рус.яз\\xa0— копия 32.xls', './ege/рус.яз\\xa0— копия.xls', './ege/рус.яз\\xa0— копия 33.xls', './ege/рус.яз\\xa0— копия 27.xls', './ege/рус.яз\\xa0— копия 23.xls', './ege/рус.яз\\xa0— копия 37.xls', './ege/рус.яз\\xa0— копия 36.xls', './ege/рус.яз\\xa0— копия 22.xls', './ege/рус.яз\\xa0— копия 34.xls', './ege/рус.яз\\xa0— копия 20.xls', './ege/рус.яз\\xa0— копия 21.xls', './ege/рус.яз\\xa0— копия 35.xls', './ege/рус.яз\\xa0— копия 38.xls', './ege/рус.яз\\xa0— копия 10.xls', './ege/рус.яз\\xa0— копия 11.xls', './ege/рус.яз\\xa0— копия 39.xls', './ege/рус.яз\\xa0— копия 13.xls', './ege/рус.яз\\xa0— копия 12.xls', './ege/рус.яз\\xa0— копия 16.xls', './ege/рус.яз\\xa0— копия 17.xls', './ege/рус.яз\\xa0— копия 15.xls', './ege/рус.яз\\xa0— копия 29.xls', './ege/рус.яз\\xa0— копия 28.xls', './ege/рус.яз\\xa0— копия 14.xls', './ege/рус.яз\\xa0— копия 2.xls', './ege/рус.яз\\xa0— копия 3.xls', './ege/рус.яз\\xa0— копия 49.xls', './ege/рус.яз\\xa0— копия 7.xls', './ege/рус.яз\\xa0— копия 6.xls', './ege/рус.яз\\xa0— копия 48.xls', './ege/рус.яз\\xa0— копия 4.xls', './ege/рус.яз\\xa0— копия 5.xls']\n"
     ]
    }
   ],
   "source": [
    "import os\n",
    "f  = os.listdir()\n",
    "Files = ['./ege/'+i for i in os.listdir('./ege') if 'xls' in i]\n",
    "if Files:\n",
    "    print(Files)\n",
    "else:\n",
    "    print('папка пустая')"
   ]
  },
  {
   "cell_type": "markdown",
   "metadata": {},
   "source": [
    "## Удаляем лишние столбцы, переименовываем их и формируем все данные в один DataFrame"
   ]
  },
  {
   "cell_type": "code",
   "execution_count": 3,
   "metadata": {},
   "outputs": [
    {
     "data": {
      "text/html": [
       "<div>\n",
       "<style scoped>\n",
       "    .dataframe tbody tr th:only-of-type {\n",
       "        vertical-align: middle;\n",
       "    }\n",
       "\n",
       "    .dataframe tbody tr th {\n",
       "        vertical-align: top;\n",
       "    }\n",
       "\n",
       "    .dataframe thead th {\n",
       "        text-align: right;\n",
       "    }\n",
       "</style>\n",
       "<table border=\"1\" class=\"dataframe\">\n",
       "  <thead>\n",
       "    <tr style=\"text-align: right;\">\n",
       "      <th></th>\n",
       "      <th>kod</th>\n",
       "      <th>kod2</th>\n",
       "      <th>class</th>\n",
       "      <th>kodPPE</th>\n",
       "      <th>room</th>\n",
       "      <th>Last name</th>\n",
       "      <th>First name</th>\n",
       "      <th>Second name</th>\n",
       "      <th>doc_s</th>\n",
       "      <th>doc_number</th>\n",
       "      <th>result_1</th>\n",
       "      <th>result_2</th>\n",
       "      <th>first_ball</th>\n",
       "      <th>ball</th>\n",
       "    </tr>\n",
       "  </thead>\n",
       "  <tbody>\n",
       "    <tr>\n",
       "      <th>0</th>\n",
       "      <td>901.0</td>\n",
       "      <td>404004.0</td>\n",
       "      <td>11В</td>\n",
       "      <td>801.0</td>\n",
       "      <td>32.0</td>\n",
       "      <td>Орлова</td>\n",
       "      <td>Валерия</td>\n",
       "      <td>Сергеевна</td>\n",
       "      <td>3213.0</td>\n",
       "      <td>356010.0</td>\n",
       "      <td>2+++++5+++++++2+-+-----4</td>\n",
       "      <td>1(1)3(3)1(1)2(3)2(2)2(2)3(3)2(3)0(2)2(2)1(1)1(1)</td>\n",
       "      <td>47.0</td>\n",
       "      <td>76.0</td>\n",
       "    </tr>\n",
       "    <tr>\n",
       "      <th>1</th>\n",
       "      <td>901.0</td>\n",
       "      <td>404004.0</td>\n",
       "      <td>11В</td>\n",
       "      <td>801.0</td>\n",
       "      <td>14.0</td>\n",
       "      <td>Паскаль</td>\n",
       "      <td>Анна</td>\n",
       "      <td>Александровна</td>\n",
       "      <td>3213.0</td>\n",
       "      <td>331939.0</td>\n",
       "      <td>2+++++5+++++++2++++++++4</td>\n",
       "      <td>1(1)3(3)1(1)3(3)2(2)2(2)3(3)3(3)2(2)1(2)1(1)1(1)</td>\n",
       "      <td>56.0</td>\n",
       "      <td>98.0</td>\n",
       "    </tr>\n",
       "    <tr>\n",
       "      <th>2</th>\n",
       "      <td>901.0</td>\n",
       "      <td>404004.0</td>\n",
       "      <td>11В</td>\n",
       "      <td>801.0</td>\n",
       "      <td>16.0</td>\n",
       "      <td>Мухутдинова</td>\n",
       "      <td>Валерия</td>\n",
       "      <td>Руслановна</td>\n",
       "      <td>3213.0</td>\n",
       "      <td>332019.0</td>\n",
       "      <td>2+++++5+++++++2++++++--4</td>\n",
       "      <td>1(1)1(3)1(1)3(3)1(2)1(2)2(3)3(3)1(2)0(2)1(1)1(1)</td>\n",
       "      <td>47.0</td>\n",
       "      <td>76.0</td>\n",
       "    </tr>\n",
       "    <tr>\n",
       "      <th>3</th>\n",
       "      <td>901.0</td>\n",
       "      <td>404004.0</td>\n",
       "      <td>11В</td>\n",
       "      <td>801.0</td>\n",
       "      <td>15.0</td>\n",
       "      <td>Нуреева</td>\n",
       "      <td>Яна</td>\n",
       "      <td>Евгеньевна</td>\n",
       "      <td>3212.0</td>\n",
       "      <td>238331.0</td>\n",
       "      <td>2+++++5+++++++2++++++++4</td>\n",
       "      <td>1(1)3(3)1(1)3(3)2(2)1(2)3(3)3(3)2(2)1(2)1(1)1(1)</td>\n",
       "      <td>55.0</td>\n",
       "      <td>96.0</td>\n",
       "    </tr>\n",
       "    <tr>\n",
       "      <th>4</th>\n",
       "      <td>901.0</td>\n",
       "      <td>404004.0</td>\n",
       "      <td>11В</td>\n",
       "      <td>801.0</td>\n",
       "      <td>13.0</td>\n",
       "      <td>Пастушенко</td>\n",
       "      <td>Арина</td>\n",
       "      <td>Алексеевна</td>\n",
       "      <td>3213.0</td>\n",
       "      <td>355644.0</td>\n",
       "      <td>2+++++5+++++++2+++++++-3</td>\n",
       "      <td>1(1)3(3)1(1)3(3)2(2)2(2)3(3)3(3)2(2)2(2)1(1)1(1)</td>\n",
       "      <td>55.0</td>\n",
       "      <td>96.0</td>\n",
       "    </tr>\n",
       "  </tbody>\n",
       "</table>\n",
       "</div>"
      ],
      "text/plain": [
       "     kod      kod2 class  kodPPE  room    Last name First name    Second name  \\\n",
       "0  901.0  404004.0   11В   801.0  32.0       Орлова    Валерия      Сергеевна   \n",
       "1  901.0  404004.0   11В   801.0  14.0      Паскаль       Анна  Александровна   \n",
       "2  901.0  404004.0   11В   801.0  16.0  Мухутдинова    Валерия     Руслановна   \n",
       "3  901.0  404004.0   11В   801.0  15.0      Нуреева        Яна     Евгеньевна   \n",
       "4  901.0  404004.0   11В   801.0  13.0   Пастушенко      Арина     Алексеевна   \n",
       "\n",
       "    doc_s  doc_number                  result_1  \\\n",
       "0  3213.0    356010.0  2+++++5+++++++2+-+-----4   \n",
       "1  3213.0    331939.0  2+++++5+++++++2++++++++4   \n",
       "2  3213.0    332019.0  2+++++5+++++++2++++++--4   \n",
       "3  3212.0    238331.0  2+++++5+++++++2++++++++4   \n",
       "4  3213.0    355644.0  2+++++5+++++++2+++++++-3   \n",
       "\n",
       "                                           result_2  first_ball  ball  \n",
       "0  1(1)3(3)1(1)2(3)2(2)2(2)3(3)2(3)0(2)2(2)1(1)1(1)        47.0  76.0  \n",
       "1  1(1)3(3)1(1)3(3)2(2)2(2)3(3)3(3)2(2)1(2)1(1)1(1)        56.0  98.0  \n",
       "2  1(1)1(3)1(1)3(3)1(2)1(2)2(3)3(3)1(2)0(2)1(1)1(1)        47.0  76.0  \n",
       "3  1(1)3(3)1(1)3(3)2(2)1(2)3(3)3(3)2(2)1(2)1(1)1(1)        55.0  96.0  \n",
       "4  1(1)3(3)1(1)3(3)2(2)2(2)3(3)3(3)2(2)2(2)1(1)1(1)        55.0  96.0  "
      ]
     },
     "execution_count": 3,
     "metadata": {},
     "output_type": "execute_result"
    }
   ],
   "source": [
    "cols = ['kod','kod2','class','kodPPE','room','Last name', 'First name', 'Second name','doc_s','doc_number','result_1','result_2','first_ball','ball']\n",
    "df = pd.DataFrame(columns=['kod','kod2','class','kodPPE','room','Last name', 'First name', 'Second name','doc_s','doc_number','result_1','result_2','first_ball','ball'])\n",
    "for i in Files:\n",
    "    table = pd.read_excel(i.strip(), header = 6)\n",
    "    table.drop(table.columns[[0, 1,3,5,7,9,11,15,17,19,21,23,25]], axis=1, inplace=True)\n",
    "    table.columns = cols\n",
    "    # функция dropna удаляет строки где есть значения NaN \n",
    "    table = table.dropna(subset=['kod'])\n",
    "    df = df.append(table)\n",
    "# строчка ниже делает индексацию строк сначала и правильно\n",
    "# т.к. после удаление не корректных строк происходит сбой в нумерации\n",
    "df.index = np.arange(len(df))\n",
    "df.head()"
   ]
  },
  {
   "cell_type": "code",
   "execution_count": 4,
   "metadata": {},
   "outputs": [
    {
     "data": {
      "text/plain": [
       "(3650, 14)"
      ]
     },
     "execution_count": 4,
     "metadata": {},
     "output_type": "execute_result"
    }
   ],
   "source": [
    "df.shape"
   ]
  },
  {
   "cell_type": "code",
   "execution_count": 5,
   "metadata": {},
   "outputs": [
    {
     "name": "stdout",
     "output_type": "stream",
     "text": [
      "Введите минимальный проходной балл по предмету -> 24\n"
     ]
    }
   ],
   "source": [
    "min_ball = int(input('Введите минимальный проходной балл по предмету -> '))"
   ]
  },
  {
   "cell_type": "markdown",
   "metadata": {},
   "source": [
    "# Отчет по пунктам 1 - 7"
   ]
  },
  {
   "cell_type": "code",
   "execution_count": 6,
   "metadata": {},
   "outputs": [
    {
     "name": "stdout",
     "output_type": "stream",
     "text": [
      "1. Количество участников: 3650\n",
      "2. Средний балл: 80.95890410958904\n",
      "3. Количество не сдавших экзамен: 0\n",
      "4. Количество набравших минимальный проходной балл: 0\n",
      "5. Количество высокобальников: 2200\n",
      "6. Минимальный балл: 50.0\n",
      "7. Максимальный балл: 98.0\n"
     ]
    }
   ],
   "source": [
    "print('1. Количество участников:',len(df))\n",
    "print('2. Средний балл:',df['ball'].sum()/len(df))\n",
    "print('3. Количество не сдавших экзамен:',(df.ball < min_ball).sum())\n",
    "print('4. Количество набравших минимальный проходной балл:',(df.ball == min_ball).sum())\n",
    "print('5. Количество высокобальников:',(df.ball > 80).sum())\n",
    "print('6. Минимальный балл:',(df.ball).min())\n",
    "print('7. Максимальный балл:',(df.ball).max())"
   ]
  },
  {
   "cell_type": "markdown",
   "metadata": {},
   "source": [
    "## Формирования отчета для отправки в Excel "
   ]
  },
  {
   "cell_type": "code",
   "execution_count": 7,
   "metadata": {},
   "outputs": [],
   "source": [
    "t1 = {\"discription\": 'Количество участников:', \"result\":len(df)}\n",
    "t2 = {\"discription\": 'Средний балл:', \"result\":df['ball'].sum()/len(df)}\n",
    "t3 = {\"discription\": 'Количество не сдавших экзамен:', \"result\": (df.ball < min_ball).sum()}\n",
    "t4 = {\"discription\": 'Количество набравших минимальный проходной балл:', \"result\":(df.ball == min_ball).sum()}\n",
    "t5 = {\"discription\": 'Количество высокобальников:', \"result\": (df.ball > 80).sum()}\n",
    "t6 = {\"discription\": 'Минимальный балл:', \"result\":(df.ball).min()}\n",
    "t7 = {\"discription\": 'Максимальный балл:', \"result\":(df.ball).max()}\n",
    "d = [t1, t2, t3, t4, t5, t6, t7]\n",
    "tasks = pd.DataFrame(d)\n",
    "tasks.index = np.arange(1,len(tasks)+1)\n",
    "#tasks"
   ]
  },
  {
   "cell_type": "markdown",
   "metadata": {},
   "source": [
    "## отправка отчета в файл excel"
   ]
  },
  {
   "cell_type": "code",
   "execution_count": 8,
   "metadata": {},
   "outputs": [],
   "source": [
    "import openpyxl\n",
    "writer = pd.ExcelWriter('analytics.xlsx', engine='openpyxl')\n",
    "\n",
    "if os.path.exists('analytics.xlsx'):\n",
    "    book = openpyxl.load_workbook('analytics.xlsx')\n",
    "    writer.book = book\n",
    "\n",
    "tasks.to_excel(writer, sheet_name='tasks_1-7')\n",
    "writer.save()\n",
    "writer.close()"
   ]
  },
  {
   "cell_type": "markdown",
   "metadata": {},
   "source": [
    "# 8. количество участников набравших соответствующий балл"
   ]
  },
  {
   "cell_type": "code",
   "execution_count": 9,
   "metadata": {},
   "outputs": [],
   "source": [
    "t8 = df.groupby(['ball']).size().reset_index(name='count')\n",
    "t8.index = np.arange(1,len(t8)+1)\n",
    "#print('\\nбалл и соответствующее колличество участников\\n\\n','№',t8,sep='')"
   ]
  },
  {
   "cell_type": "markdown",
   "metadata": {},
   "source": [
    "## сохраним в excel файл "
   ]
  },
  {
   "cell_type": "code",
   "execution_count": 10,
   "metadata": {},
   "outputs": [],
   "source": [
    "import openpyxl\n",
    "writer = pd.ExcelWriter('analytics.xlsx', engine='openpyxl')\n",
    "\n",
    "if os.path.exists('analytics.xlsx'):\n",
    "    book = openpyxl.load_workbook('analytics.xlsx')\n",
    "    writer.book = book\n",
    "\n",
    "t8.to_excel(writer, sheet_name='task_8')\n",
    "writer.save()\n",
    "writer.close()"
   ]
  },
  {
   "cell_type": "markdown",
   "metadata": {},
   "source": [
    "\n",
    "## Обрабатываем данные для одного или более файлов единного предмета"
   ]
  },
  {
   "cell_type": "code",
   "execution_count": 11,
   "metadata": {},
   "outputs": [],
   "source": [
    "# Функция перевода + и - в 1 и 0\n",
    "# в некоторых предметах кроме + и - встречаются цифры (они останутся без изменений)\n",
    "def plusToNum(s):\n",
    "    st=''\n",
    "    for i in s:\n",
    "        if i == '+':\n",
    "            st+='1'\n",
    "        elif i == '-': \n",
    "            st +='0'\n",
    "        else:\n",
    "            st += i\n",
    "    arr = [int(i) for i in st]\n",
    "    return arr"
   ]
  },
  {
   "cell_type": "markdown",
   "metadata": {},
   "source": [
    "# 9. % выполнения отдельных заданий 1 части (в виде таблицы и графика)\n",
    "### готовим шапку таблицы"
   ]
  },
  {
   "cell_type": "code",
   "execution_count": 12,
   "metadata": {},
   "outputs": [],
   "source": [
    "# количество заданий в первой части\n",
    "number = len(table.result_1[1])"
   ]
  },
  {
   "cell_type": "code",
   "execution_count": null,
   "metadata": {},
   "outputs": [],
   "source": []
  },
  {
   "cell_type": "code",
   "execution_count": 13,
   "metadata": {
    "scrolled": true
   },
   "outputs": [
    {
     "data": {
      "text/html": [
       "<div>\n",
       "<style scoped>\n",
       "    .dataframe tbody tr th:only-of-type {\n",
       "        vertical-align: middle;\n",
       "    }\n",
       "\n",
       "    .dataframe tbody tr th {\n",
       "        vertical-align: top;\n",
       "    }\n",
       "\n",
       "    .dataframe thead th {\n",
       "        text-align: right;\n",
       "    }\n",
       "</style>\n",
       "<table border=\"1\" class=\"dataframe\">\n",
       "  <thead>\n",
       "    <tr style=\"text-align: right;\">\n",
       "      <th></th>\n",
       "      <th>Last name</th>\n",
       "      <th>1</th>\n",
       "      <th>2</th>\n",
       "      <th>3</th>\n",
       "      <th>4</th>\n",
       "      <th>5</th>\n",
       "      <th>6</th>\n",
       "      <th>7</th>\n",
       "      <th>8</th>\n",
       "      <th>9</th>\n",
       "      <th>...</th>\n",
       "      <th>16</th>\n",
       "      <th>17</th>\n",
       "      <th>18</th>\n",
       "      <th>19</th>\n",
       "      <th>20</th>\n",
       "      <th>21</th>\n",
       "      <th>22</th>\n",
       "      <th>23</th>\n",
       "      <th>24</th>\n",
       "      <th>summa</th>\n",
       "    </tr>\n",
       "  </thead>\n",
       "  <tbody>\n",
       "    <tr>\n",
       "      <th>0</th>\n",
       "      <td>Орлова</td>\n",
       "      <td>2</td>\n",
       "      <td>1</td>\n",
       "      <td>1</td>\n",
       "      <td>1</td>\n",
       "      <td>1</td>\n",
       "      <td>1</td>\n",
       "      <td>5</td>\n",
       "      <td>1</td>\n",
       "      <td>1</td>\n",
       "      <td>...</td>\n",
       "      <td>1</td>\n",
       "      <td>0</td>\n",
       "      <td>1</td>\n",
       "      <td>0</td>\n",
       "      <td>0</td>\n",
       "      <td>0</td>\n",
       "      <td>0</td>\n",
       "      <td>0</td>\n",
       "      <td>4</td>\n",
       "      <td>27</td>\n",
       "    </tr>\n",
       "    <tr>\n",
       "      <th>1</th>\n",
       "      <td>Паскаль</td>\n",
       "      <td>2</td>\n",
       "      <td>1</td>\n",
       "      <td>1</td>\n",
       "      <td>1</td>\n",
       "      <td>1</td>\n",
       "      <td>1</td>\n",
       "      <td>5</td>\n",
       "      <td>1</td>\n",
       "      <td>1</td>\n",
       "      <td>...</td>\n",
       "      <td>1</td>\n",
       "      <td>1</td>\n",
       "      <td>1</td>\n",
       "      <td>1</td>\n",
       "      <td>1</td>\n",
       "      <td>1</td>\n",
       "      <td>1</td>\n",
       "      <td>1</td>\n",
       "      <td>4</td>\n",
       "      <td>33</td>\n",
       "    </tr>\n",
       "  </tbody>\n",
       "</table>\n",
       "<p>2 rows × 26 columns</p>\n",
       "</div>"
      ],
      "text/plain": [
       "  Last name  1  2  3  4  5  6  7  8  9  ...  16 17 18 19 20 21 22 23 24 summa\n",
       "0    Орлова  2  1  1  1  1  1  5  1  1  ...   1  0  1  0  0  0  0  0  4    27\n",
       "1   Паскаль  2  1  1  1  1  1  5  1  1  ...   1  1  1  1  1  1  1  1  4    33\n",
       "\n",
       "[2 rows x 26 columns]"
      ]
     },
     "execution_count": 13,
     "metadata": {},
     "output_type": "execute_result"
    }
   ],
   "source": [
    "# готовим шапку\n",
    "table2 = pd.DataFrame(columns=['Last name'] + [str(i+1) for i in range(number)]+['summa'])\n",
    "table2.head()\n",
    "row = 0\n",
    "for t,k in enumerate(df['result_1']):\n",
    "    buf = plusToNum(k)\n",
    "    table2.loc[t] = [df['Last name'][t]]+[j for j in buf]+[sum(buf)]\n",
    "row += t+1\n",
    "table2[:2]"
   ]
  },
  {
   "cell_type": "code",
   "execution_count": 14,
   "metadata": {},
   "outputs": [
    {
     "data": {
      "text/plain": [
       "(3650, 26)"
      ]
     },
     "execution_count": 14,
     "metadata": {},
     "output_type": "execute_result"
    }
   ],
   "source": [
    "table2.shape"
   ]
  },
  {
   "cell_type": "markdown",
   "metadata": {},
   "source": [
    "## Пробую добавить строку с суммой по заданиям"
   ]
  },
  {
   "cell_type": "code",
   "execution_count": 15,
   "metadata": {},
   "outputs": [
    {
     "data": {
      "text/html": [
       "<div>\n",
       "<style scoped>\n",
       "    .dataframe tbody tr th:only-of-type {\n",
       "        vertical-align: middle;\n",
       "    }\n",
       "\n",
       "    .dataframe tbody tr th {\n",
       "        vertical-align: top;\n",
       "    }\n",
       "\n",
       "    .dataframe thead th {\n",
       "        text-align: right;\n",
       "    }\n",
       "</style>\n",
       "<table border=\"1\" class=\"dataframe\">\n",
       "  <thead>\n",
       "    <tr style=\"text-align: right;\">\n",
       "      <th></th>\n",
       "      <th>Last name</th>\n",
       "      <th>1</th>\n",
       "      <th>2</th>\n",
       "      <th>3</th>\n",
       "      <th>4</th>\n",
       "      <th>5</th>\n",
       "      <th>6</th>\n",
       "      <th>7</th>\n",
       "      <th>8</th>\n",
       "      <th>9</th>\n",
       "      <th>...</th>\n",
       "      <th>16</th>\n",
       "      <th>17</th>\n",
       "      <th>18</th>\n",
       "      <th>19</th>\n",
       "      <th>20</th>\n",
       "      <th>21</th>\n",
       "      <th>22</th>\n",
       "      <th>23</th>\n",
       "      <th>24</th>\n",
       "      <th>summa</th>\n",
       "    </tr>\n",
       "  </thead>\n",
       "  <tbody>\n",
       "    <tr>\n",
       "      <th>3648</th>\n",
       "      <td>Илюхина</td>\n",
       "      <td>2</td>\n",
       "      <td>1</td>\n",
       "      <td>1</td>\n",
       "      <td>1</td>\n",
       "      <td>1</td>\n",
       "      <td>1</td>\n",
       "      <td>5</td>\n",
       "      <td>1</td>\n",
       "      <td>1</td>\n",
       "      <td>...</td>\n",
       "      <td>1</td>\n",
       "      <td>1</td>\n",
       "      <td>1</td>\n",
       "      <td>1</td>\n",
       "      <td>0</td>\n",
       "      <td>0</td>\n",
       "      <td>1</td>\n",
       "      <td>1</td>\n",
       "      <td>4</td>\n",
       "      <td>31</td>\n",
       "    </tr>\n",
       "    <tr>\n",
       "      <th>3649</th>\n",
       "      <td>Коваценко</td>\n",
       "      <td>2</td>\n",
       "      <td>1</td>\n",
       "      <td>1</td>\n",
       "      <td>1</td>\n",
       "      <td>1</td>\n",
       "      <td>1</td>\n",
       "      <td>5</td>\n",
       "      <td>1</td>\n",
       "      <td>1</td>\n",
       "      <td>...</td>\n",
       "      <td>1</td>\n",
       "      <td>1</td>\n",
       "      <td>1</td>\n",
       "      <td>1</td>\n",
       "      <td>1</td>\n",
       "      <td>0</td>\n",
       "      <td>1</td>\n",
       "      <td>1</td>\n",
       "      <td>4</td>\n",
       "      <td>32</td>\n",
       "    </tr>\n",
       "    <tr>\n",
       "      <th>3650</th>\n",
       "      <td>sum</td>\n",
       "      <td>7200</td>\n",
       "      <td>3550</td>\n",
       "      <td>3350</td>\n",
       "      <td>3550</td>\n",
       "      <td>3150</td>\n",
       "      <td>2700</td>\n",
       "      <td>16000</td>\n",
       "      <td>3450</td>\n",
       "      <td>3650</td>\n",
       "      <td>...</td>\n",
       "      <td>3350</td>\n",
       "      <td>3050</td>\n",
       "      <td>3550</td>\n",
       "      <td>2700</td>\n",
       "      <td>2200</td>\n",
       "      <td>1800</td>\n",
       "      <td>3100</td>\n",
       "      <td>1150</td>\n",
       "      <td>12150</td>\n",
       "      <td></td>\n",
       "    </tr>\n",
       "  </tbody>\n",
       "</table>\n",
       "<p>3 rows × 26 columns</p>\n",
       "</div>"
      ],
      "text/plain": [
       "      Last name     1     2     3     4     5     6      7     8     9  ...   \\\n",
       "3648    Илюхина     2     1     1     1     1     1      5     1     1  ...    \n",
       "3649  Коваценко     2     1     1     1     1     1      5     1     1  ...    \n",
       "3650        sum  7200  3550  3350  3550  3150  2700  16000  3450  3650  ...    \n",
       "\n",
       "        16    17    18    19    20    21    22    23     24 summa  \n",
       "3648     1     1     1     1     0     0     1     1      4    31  \n",
       "3649     1     1     1     1     1     0     1     1      4    32  \n",
       "3650  3350  3050  3550  2700  2200  1800  3100  1150  12150        \n",
       "\n",
       "[3 rows x 26 columns]"
      ]
     },
     "execution_count": 15,
     "metadata": {},
     "output_type": "execute_result"
    }
   ],
   "source": [
    "test=[]\n",
    "for i in range(1,number+1):\n",
    "    test.append(table2[str(i)].sum())\n",
    "#test\n",
    "table2.loc[row] = ['sum']+[j for j in test]+[' ']\n",
    "table2[-3:]"
   ]
  },
  {
   "cell_type": "markdown",
   "metadata": {},
   "source": [
    "## добавим строку с процентами"
   ]
  },
  {
   "cell_type": "code",
   "execution_count": 16,
   "metadata": {},
   "outputs": [
    {
     "data": {
      "text/html": [
       "<div>\n",
       "<style scoped>\n",
       "    .dataframe tbody tr th:only-of-type {\n",
       "        vertical-align: middle;\n",
       "    }\n",
       "\n",
       "    .dataframe tbody tr th {\n",
       "        vertical-align: top;\n",
       "    }\n",
       "\n",
       "    .dataframe thead th {\n",
       "        text-align: right;\n",
       "    }\n",
       "</style>\n",
       "<table border=\"1\" class=\"dataframe\">\n",
       "  <thead>\n",
       "    <tr style=\"text-align: right;\">\n",
       "      <th></th>\n",
       "      <th>Last name</th>\n",
       "      <th>1</th>\n",
       "      <th>2</th>\n",
       "      <th>3</th>\n",
       "      <th>4</th>\n",
       "      <th>5</th>\n",
       "      <th>6</th>\n",
       "      <th>7</th>\n",
       "      <th>8</th>\n",
       "      <th>9</th>\n",
       "      <th>...</th>\n",
       "      <th>16</th>\n",
       "      <th>17</th>\n",
       "      <th>18</th>\n",
       "      <th>19</th>\n",
       "      <th>20</th>\n",
       "      <th>21</th>\n",
       "      <th>22</th>\n",
       "      <th>23</th>\n",
       "      <th>24</th>\n",
       "      <th>summa</th>\n",
       "    </tr>\n",
       "  </thead>\n",
       "  <tbody>\n",
       "    <tr>\n",
       "      <th>3647</th>\n",
       "      <td>Колычев</td>\n",
       "      <td>2</td>\n",
       "      <td>1</td>\n",
       "      <td>1</td>\n",
       "      <td>1</td>\n",
       "      <td>1</td>\n",
       "      <td>1</td>\n",
       "      <td>5</td>\n",
       "      <td>1</td>\n",
       "      <td>1</td>\n",
       "      <td>...</td>\n",
       "      <td>1</td>\n",
       "      <td>1</td>\n",
       "      <td>1</td>\n",
       "      <td>1</td>\n",
       "      <td>0</td>\n",
       "      <td>1</td>\n",
       "      <td>1</td>\n",
       "      <td>0</td>\n",
       "      <td>4</td>\n",
       "      <td>31</td>\n",
       "    </tr>\n",
       "    <tr>\n",
       "      <th>3648</th>\n",
       "      <td>Илюхина</td>\n",
       "      <td>2</td>\n",
       "      <td>1</td>\n",
       "      <td>1</td>\n",
       "      <td>1</td>\n",
       "      <td>1</td>\n",
       "      <td>1</td>\n",
       "      <td>5</td>\n",
       "      <td>1</td>\n",
       "      <td>1</td>\n",
       "      <td>...</td>\n",
       "      <td>1</td>\n",
       "      <td>1</td>\n",
       "      <td>1</td>\n",
       "      <td>1</td>\n",
       "      <td>0</td>\n",
       "      <td>0</td>\n",
       "      <td>1</td>\n",
       "      <td>1</td>\n",
       "      <td>4</td>\n",
       "      <td>31</td>\n",
       "    </tr>\n",
       "    <tr>\n",
       "      <th>3649</th>\n",
       "      <td>Коваценко</td>\n",
       "      <td>2</td>\n",
       "      <td>1</td>\n",
       "      <td>1</td>\n",
       "      <td>1</td>\n",
       "      <td>1</td>\n",
       "      <td>1</td>\n",
       "      <td>5</td>\n",
       "      <td>1</td>\n",
       "      <td>1</td>\n",
       "      <td>...</td>\n",
       "      <td>1</td>\n",
       "      <td>1</td>\n",
       "      <td>1</td>\n",
       "      <td>1</td>\n",
       "      <td>1</td>\n",
       "      <td>0</td>\n",
       "      <td>1</td>\n",
       "      <td>1</td>\n",
       "      <td>4</td>\n",
       "      <td>32</td>\n",
       "    </tr>\n",
       "    <tr>\n",
       "      <th>3650</th>\n",
       "      <td>sum</td>\n",
       "      <td>7200</td>\n",
       "      <td>3550</td>\n",
       "      <td>3350</td>\n",
       "      <td>3550</td>\n",
       "      <td>3150</td>\n",
       "      <td>2700</td>\n",
       "      <td>16000</td>\n",
       "      <td>3450</td>\n",
       "      <td>3650</td>\n",
       "      <td>...</td>\n",
       "      <td>3350</td>\n",
       "      <td>3050</td>\n",
       "      <td>3550</td>\n",
       "      <td>2700</td>\n",
       "      <td>2200</td>\n",
       "      <td>1800</td>\n",
       "      <td>3100</td>\n",
       "      <td>1150</td>\n",
       "      <td>12150</td>\n",
       "      <td></td>\n",
       "    </tr>\n",
       "    <tr>\n",
       "      <th>3651</th>\n",
       "      <td>%</td>\n",
       "      <td>98.6301</td>\n",
       "      <td>97.2603</td>\n",
       "      <td>91.7808</td>\n",
       "      <td>97.2603</td>\n",
       "      <td>86.3014</td>\n",
       "      <td>73.9726</td>\n",
       "      <td>87.6712</td>\n",
       "      <td>94.5205</td>\n",
       "      <td>100</td>\n",
       "      <td>...</td>\n",
       "      <td>91.7808</td>\n",
       "      <td>83.5616</td>\n",
       "      <td>97.2603</td>\n",
       "      <td>73.9726</td>\n",
       "      <td>60.274</td>\n",
       "      <td>49.3151</td>\n",
       "      <td>84.9315</td>\n",
       "      <td>31.5068</td>\n",
       "      <td>83.2192</td>\n",
       "      <td></td>\n",
       "    </tr>\n",
       "  </tbody>\n",
       "</table>\n",
       "<p>5 rows × 26 columns</p>\n",
       "</div>"
      ],
      "text/plain": [
       "      Last name        1        2        3        4        5        6  \\\n",
       "3647    Колычев        2        1        1        1        1        1   \n",
       "3648    Илюхина        2        1        1        1        1        1   \n",
       "3649  Коваценко        2        1        1        1        1        1   \n",
       "3650        sum     7200     3550     3350     3550     3150     2700   \n",
       "3651          %  98.6301  97.2603  91.7808  97.2603  86.3014  73.9726   \n",
       "\n",
       "            7        8     9  ...        16       17       18       19  \\\n",
       "3647        5        1     1  ...         1        1        1        1   \n",
       "3648        5        1     1  ...         1        1        1        1   \n",
       "3649        5        1     1  ...         1        1        1        1   \n",
       "3650    16000     3450  3650  ...      3350     3050     3550     2700   \n",
       "3651  87.6712  94.5205   100  ...   91.7808  83.5616  97.2603  73.9726   \n",
       "\n",
       "          20       21       22       23       24 summa  \n",
       "3647       0        1        1        0        4    31  \n",
       "3648       0        0        1        1        4    31  \n",
       "3649       1        0        1        1        4    32  \n",
       "3650    2200     1800     3100     1150    12150        \n",
       "3651  60.274  49.3151  84.9315  31.5068  83.2192        \n",
       "\n",
       "[5 rows x 26 columns]"
      ]
     },
     "execution_count": 16,
     "metadata": {},
     "output_type": "execute_result"
    }
   ],
   "source": [
    "# функция max расчитывает самый большой балл в столбце\n",
    "B = [(i * 100 / row / max(1,max(table2[str(j)][:-1])))  for j, i in enumerate (table2.loc[row][1:-1],1)]\n",
    "table2.loc[row+1] = ['%']+[j for j in B]+[' ']\n",
    "table2[-5:]"
   ]
  },
  {
   "cell_type": "code",
   "execution_count": 17,
   "metadata": {},
   "outputs": [
    {
     "data": {
      "text/plain": [
       "(3652, 26)"
      ]
     },
     "execution_count": 17,
     "metadata": {},
     "output_type": "execute_result"
    }
   ],
   "source": [
    "table2.shape"
   ]
  },
  {
   "cell_type": "code",
   "execution_count": null,
   "metadata": {},
   "outputs": [],
   "source": []
  },
  {
   "cell_type": "markdown",
   "metadata": {},
   "source": [
    "# Визуализация 1 части"
   ]
  },
  {
   "cell_type": "code",
   "execution_count": 19,
   "metadata": {},
   "outputs": [
    {
     "data": {
      "image/png": "[encoded data removed]",
      "text/plain": [
       "<matplotlib.figure.Figure at 0x111fd72e8>"
      ]
     },
     "metadata": {},
     "output_type": "display_data"
    }
   ],
   "source": [
    "# вызуализация\n",
    "q = table2.loc[len(table2)-1][1:-1]\n",
    "q.plot(kind='bar'); #столбчатая диаграмма"
   ]
  },
  {
   "cell_type": "markdown",
   "metadata": {},
   "source": [
    "## Визуализация в mathplotlib"
   ]
  },
  {
   "cell_type": "code",
   "execution_count": 20,
   "metadata": {},
   "outputs": [
    {
     "data": {
      "image/png": "[encoded data removed]",
      "text/plain": [
       "<matplotlib.figure.Figure at 0x11226b5c0>"
      ]
     },
     "metadata": {},
     "output_type": "display_data"
    }
   ],
   "source": [
    "colorsr = ['red', 'orange', 'yellow', 'green', 'blue', 'violet']\n",
    "import matplotlib.pyplot as plt\n",
    "num = [i for i in range(1,number+1)]\n",
    "# формируем строку с процентами\n",
    "sums = pd.Series(table2.loc[len(table2)-1][1:-1])\n",
    "plt.bar(num, sums, width = 0.5, color = colorsr)\n",
    "plt.title(\"Первая часть ЕГЭ\", fontsize=14)\n",
    "plt.xlabel(\"Номер\", fontsize=12)\n",
    "plt.ylabel(\"Сумма\", fontsize=12)\n",
    "plt.show()"
   ]
  },
  {
   "cell_type": "code",
   "execution_count": null,
   "metadata": {},
   "outputs": [],
   "source": []
  },
  {
   "cell_type": "code",
   "execution_count": 21,
   "metadata": {},
   "outputs": [],
   "source": [
    "import openpyxl\n",
    "writer = pd.ExcelWriter('analytics.xlsx', engine='openpyxl')\n",
    "\n",
    "if os.path.exists('analytics.xlsx'):\n",
    "    book = openpyxl.load_workbook('analytics.xlsx')\n",
    "    writer.book = book\n",
    "\n",
    "table2.to_excel(writer, sheet_name='result_1')\n",
    "writer.save()\n",
    "writer.close()"
   ]
  },
  {
   "cell_type": "code",
   "execution_count": null,
   "metadata": {},
   "outputs": [],
   "source": []
  },
  {
   "cell_type": "markdown",
   "metadata": {},
   "source": [
    "# 10. % выполнения отдельных заданий 2 части"
   ]
  },
  {
   "cell_type": "code",
   "execution_count": 22,
   "metadata": {},
   "outputs": [],
   "source": [
    "import os\n",
    "import pandas as pd"
   ]
  },
  {
   "cell_type": "code",
   "execution_count": 23,
   "metadata": {},
   "outputs": [
    {
     "name": "stdout",
     "output_type": "stream",
     "text": [
      "['./ege/рус.яз\\xa0— копия 46.xls', './ege/рус.яз\\xa0— копия 8.xls', './ege/рус.яз\\xa0— копия 9.xls', './ege/рус.яз\\xa0— копия 47.xls', './ege/рус.яз\\xa0— копия 45.xls', './ege/рус.яз\\xa0— копия 44.xls', './ege/рус.яз\\xa0— копия 40.xls', './ege/рус.яз\\xa0— копия 41.xls', './ege/рус.яз\\xa0— копия 43.xls', './ege/рус.яз\\xa0— копия 42.xls', './ege/рус.яз\\xa0— копия 19.xls', './ege/рус.яз\\xa0— копия 31.xls', './ege/рус.яз\\xa0— копия 25.xls', './ege/рус.яз.xls', './ege/рус.яз\\xa0— копия 24.xls', './ege/рус.яз\\xa0— копия 30.xls', './ege/рус.яз\\xa0— копия 18.xls', './ege/рус.яз\\xa0— копия 26.xls', './ege/рус.яз\\xa0— копия 32.xls', './ege/рус.яз\\xa0— копия.xls', './ege/рус.яз\\xa0— копия 33.xls', './ege/рус.яз\\xa0— копия 27.xls', './ege/рус.яз\\xa0— копия 23.xls', './ege/рус.яз\\xa0— копия 37.xls', './ege/рус.яз\\xa0— копия 36.xls', './ege/рус.яз\\xa0— копия 22.xls', './ege/рус.яз\\xa0— копия 34.xls', './ege/рус.яз\\xa0— копия 20.xls', './ege/рус.яз\\xa0— копия 21.xls', './ege/рус.яз\\xa0— копия 35.xls', './ege/рус.яз\\xa0— копия 38.xls', './ege/рус.яз\\xa0— копия 10.xls', './ege/рус.яз\\xa0— копия 11.xls', './ege/рус.яз\\xa0— копия 39.xls', './ege/рус.яз\\xa0— копия 13.xls', './ege/рус.яз\\xa0— копия 12.xls', './ege/рус.яз\\xa0— копия 16.xls', './ege/рус.яз\\xa0— копия 17.xls', './ege/рус.яз\\xa0— копия 15.xls', './ege/рус.яз\\xa0— копия 29.xls', './ege/рус.яз\\xa0— копия 28.xls', './ege/рус.яз\\xa0— копия 14.xls', './ege/рус.яз\\xa0— копия 2.xls', './ege/рус.яз\\xa0— копия 3.xls', './ege/рус.яз\\xa0— копия 49.xls', './ege/рус.яз\\xa0— копия 7.xls', './ege/рус.яз\\xa0— копия 6.xls', './ege/рус.яз\\xa0— копия 48.xls', './ege/рус.яз\\xa0— копия 4.xls', './ege/рус.яз\\xa0— копия 5.xls']\n"
     ]
    }
   ],
   "source": [
    "Files = ['./ege/'+i for i in os.listdir('./ege') if 'xls' in i]\n",
    "print(Files)"
   ]
  },
  {
   "cell_type": "code",
   "execution_count": null,
   "metadata": {},
   "outputs": [],
   "source": []
  },
  {
   "cell_type": "code",
   "execution_count": 24,
   "metadata": {},
   "outputs": [
    {
     "data": {
      "text/html": [
       "<div>\n",
       "<style scoped>\n",
       "    .dataframe tbody tr th:only-of-type {\n",
       "        vertical-align: middle;\n",
       "    }\n",
       "\n",
       "    .dataframe tbody tr th {\n",
       "        vertical-align: top;\n",
       "    }\n",
       "\n",
       "    .dataframe thead th {\n",
       "        text-align: right;\n",
       "    }\n",
       "</style>\n",
       "<table border=\"1\" class=\"dataframe\">\n",
       "  <thead>\n",
       "    <tr style=\"text-align: right;\">\n",
       "      <th></th>\n",
       "      <th>kod</th>\n",
       "      <th>kod2</th>\n",
       "      <th>class</th>\n",
       "      <th>kodPPE</th>\n",
       "      <th>room</th>\n",
       "      <th>Last name</th>\n",
       "      <th>First name</th>\n",
       "      <th>Second name</th>\n",
       "      <th>doc_s</th>\n",
       "      <th>doc_number</th>\n",
       "      <th>result_1</th>\n",
       "      <th>result_2</th>\n",
       "      <th>first_ball</th>\n",
       "      <th>ball</th>\n",
       "    </tr>\n",
       "  </thead>\n",
       "  <tbody>\n",
       "    <tr>\n",
       "      <th>0</th>\n",
       "      <td>901.0</td>\n",
       "      <td>404004.0</td>\n",
       "      <td>11В</td>\n",
       "      <td>801.0</td>\n",
       "      <td>32.0</td>\n",
       "      <td>Орлова</td>\n",
       "      <td>Валерия</td>\n",
       "      <td>Сергеевна</td>\n",
       "      <td>3213.0</td>\n",
       "      <td>356010.0</td>\n",
       "      <td>2+++++5+++++++2+-+-----4</td>\n",
       "      <td>1(1)3(3)1(1)2(3)2(2)2(2)3(3)2(3)0(2)2(2)1(1)1(1)</td>\n",
       "      <td>47.0</td>\n",
       "      <td>76.0</td>\n",
       "    </tr>\n",
       "    <tr>\n",
       "      <th>1</th>\n",
       "      <td>901.0</td>\n",
       "      <td>404004.0</td>\n",
       "      <td>11В</td>\n",
       "      <td>801.0</td>\n",
       "      <td>14.0</td>\n",
       "      <td>Паскаль</td>\n",
       "      <td>Анна</td>\n",
       "      <td>Александровна</td>\n",
       "      <td>3213.0</td>\n",
       "      <td>331939.0</td>\n",
       "      <td>2+++++5+++++++2++++++++4</td>\n",
       "      <td>1(1)3(3)1(1)3(3)2(2)2(2)3(3)3(3)2(2)1(2)1(1)1(1)</td>\n",
       "      <td>56.0</td>\n",
       "      <td>98.0</td>\n",
       "    </tr>\n",
       "    <tr>\n",
       "      <th>2</th>\n",
       "      <td>901.0</td>\n",
       "      <td>404004.0</td>\n",
       "      <td>11В</td>\n",
       "      <td>801.0</td>\n",
       "      <td>16.0</td>\n",
       "      <td>Мухутдинова</td>\n",
       "      <td>Валерия</td>\n",
       "      <td>Руслановна</td>\n",
       "      <td>3213.0</td>\n",
       "      <td>332019.0</td>\n",
       "      <td>2+++++5+++++++2++++++--4</td>\n",
       "      <td>1(1)1(3)1(1)3(3)1(2)1(2)2(3)3(3)1(2)0(2)1(1)1(1)</td>\n",
       "      <td>47.0</td>\n",
       "      <td>76.0</td>\n",
       "    </tr>\n",
       "    <tr>\n",
       "      <th>3</th>\n",
       "      <td>901.0</td>\n",
       "      <td>404004.0</td>\n",
       "      <td>11В</td>\n",
       "      <td>801.0</td>\n",
       "      <td>15.0</td>\n",
       "      <td>Нуреева</td>\n",
       "      <td>Яна</td>\n",
       "      <td>Евгеньевна</td>\n",
       "      <td>3212.0</td>\n",
       "      <td>238331.0</td>\n",
       "      <td>2+++++5+++++++2++++++++4</td>\n",
       "      <td>1(1)3(3)1(1)3(3)2(2)1(2)3(3)3(3)2(2)1(2)1(1)1(1)</td>\n",
       "      <td>55.0</td>\n",
       "      <td>96.0</td>\n",
       "    </tr>\n",
       "    <tr>\n",
       "      <th>4</th>\n",
       "      <td>901.0</td>\n",
       "      <td>404004.0</td>\n",
       "      <td>11В</td>\n",
       "      <td>801.0</td>\n",
       "      <td>13.0</td>\n",
       "      <td>Пастушенко</td>\n",
       "      <td>Арина</td>\n",
       "      <td>Алексеевна</td>\n",
       "      <td>3213.0</td>\n",
       "      <td>355644.0</td>\n",
       "      <td>2+++++5+++++++2+++++++-3</td>\n",
       "      <td>1(1)3(3)1(1)3(3)2(2)2(2)3(3)3(3)2(2)2(2)1(1)1(1)</td>\n",
       "      <td>55.0</td>\n",
       "      <td>96.0</td>\n",
       "    </tr>\n",
       "  </tbody>\n",
       "</table>\n",
       "</div>"
      ],
      "text/plain": [
       "     kod      kod2 class  kodPPE  room    Last name First name    Second name  \\\n",
       "0  901.0  404004.0   11В   801.0  32.0       Орлова    Валерия      Сергеевна   \n",
       "1  901.0  404004.0   11В   801.0  14.0      Паскаль       Анна  Александровна   \n",
       "2  901.0  404004.0   11В   801.0  16.0  Мухутдинова    Валерия     Руслановна   \n",
       "3  901.0  404004.0   11В   801.0  15.0      Нуреева        Яна     Евгеньевна   \n",
       "4  901.0  404004.0   11В   801.0  13.0   Пастушенко      Арина     Алексеевна   \n",
       "\n",
       "    doc_s  doc_number                  result_1  \\\n",
       "0  3213.0    356010.0  2+++++5+++++++2+-+-----4   \n",
       "1  3213.0    331939.0  2+++++5+++++++2++++++++4   \n",
       "2  3213.0    332019.0  2+++++5+++++++2++++++--4   \n",
       "3  3212.0    238331.0  2+++++5+++++++2++++++++4   \n",
       "4  3213.0    355644.0  2+++++5+++++++2+++++++-3   \n",
       "\n",
       "                                           result_2  first_ball  ball  \n",
       "0  1(1)3(3)1(1)2(3)2(2)2(2)3(3)2(3)0(2)2(2)1(1)1(1)        47.0  76.0  \n",
       "1  1(1)3(3)1(1)3(3)2(2)2(2)3(3)3(3)2(2)1(2)1(1)1(1)        56.0  98.0  \n",
       "2  1(1)1(3)1(1)3(3)1(2)1(2)2(3)3(3)1(2)0(2)1(1)1(1)        47.0  76.0  \n",
       "3  1(1)3(3)1(1)3(3)2(2)1(2)3(3)3(3)2(2)1(2)1(1)1(1)        55.0  96.0  \n",
       "4  1(1)3(3)1(1)3(3)2(2)2(2)3(3)3(3)2(2)2(2)1(1)1(1)        55.0  96.0  "
      ]
     },
     "execution_count": 24,
     "metadata": {},
     "output_type": "execute_result"
    }
   ],
   "source": [
    "cols = ['kod','kod2','class','kodPPE','room','Last name', 'First name', 'Second name','doc_s','doc_number','result_1','result_2','first_ball','ball']\n",
    "df2 = pd.DataFrame(columns=['kod','kod2','class','kodPPE','room','Last name', 'First name', 'Second name','doc_s','doc_number','result_1','result_2','first_ball','ball'])\n",
    "for i in Files:\n",
    "    table = pd.read_excel(i.strip(), header = 6)\n",
    "    table.drop(table.columns[[0, 1,3,5,7,9,11,15,17,19,21,23,25]], axis=1, inplace=True)\n",
    "    table.columns = cols\n",
    "    # функция dropna удаляет строки где есть значения NaN \n",
    "    table = table.dropna(subset=['kod'])\n",
    "    df2 = df2.append(table)\n",
    "# строчка ниже делает индексацию строк сначала и правильно\n",
    "# т.к. после удаление не корректных строк происходит сбой в нумерации\n",
    "df2.index = np.arange(len(df2))\n",
    "df2.head()"
   ]
  },
  {
   "cell_type": "code",
   "execution_count": 25,
   "metadata": {},
   "outputs": [
    {
     "name": "stdout",
     "output_type": "stream",
     "text": [
      "25 37\n"
     ]
    }
   ],
   "source": [
    "# количество заданий в первой части\n",
    "left = len(df2.result_1[1])\n",
    "right = len(df2.result_2[1][::4])\n",
    "left += 1\n",
    "right += left\n",
    "print(left, right)"
   ]
  },
  {
   "cell_type": "code",
   "execution_count": 26,
   "metadata": {},
   "outputs": [
    {
     "data": {
      "text/html": [
       "<div>\n",
       "<style scoped>\n",
       "    .dataframe tbody tr th:only-of-type {\n",
       "        vertical-align: middle;\n",
       "    }\n",
       "\n",
       "    .dataframe tbody tr th {\n",
       "        vertical-align: top;\n",
       "    }\n",
       "\n",
       "    .dataframe thead th {\n",
       "        text-align: right;\n",
       "    }\n",
       "</style>\n",
       "<table border=\"1\" class=\"dataframe\">\n",
       "  <thead>\n",
       "    <tr style=\"text-align: right;\">\n",
       "      <th></th>\n",
       "      <th>Last name</th>\n",
       "      <th>25</th>\n",
       "      <th>26</th>\n",
       "      <th>27</th>\n",
       "      <th>28</th>\n",
       "      <th>29</th>\n",
       "      <th>30</th>\n",
       "      <th>31</th>\n",
       "      <th>32</th>\n",
       "      <th>33</th>\n",
       "      <th>34</th>\n",
       "      <th>35</th>\n",
       "      <th>36</th>\n",
       "      <th>summa</th>\n",
       "    </tr>\n",
       "  </thead>\n",
       "  <tbody>\n",
       "    <tr>\n",
       "      <th>3645</th>\n",
       "      <td>Ившина</td>\n",
       "      <td>1</td>\n",
       "      <td>3</td>\n",
       "      <td>1</td>\n",
       "      <td>1</td>\n",
       "      <td>1</td>\n",
       "      <td>1</td>\n",
       "      <td>2</td>\n",
       "      <td>2</td>\n",
       "      <td>1</td>\n",
       "      <td>2</td>\n",
       "      <td>1</td>\n",
       "      <td>1</td>\n",
       "      <td>17</td>\n",
       "    </tr>\n",
       "    <tr>\n",
       "      <th>3646</th>\n",
       "      <td>Колачева</td>\n",
       "      <td>1</td>\n",
       "      <td>3</td>\n",
       "      <td>1</td>\n",
       "      <td>3</td>\n",
       "      <td>2</td>\n",
       "      <td>2</td>\n",
       "      <td>3</td>\n",
       "      <td>3</td>\n",
       "      <td>2</td>\n",
       "      <td>2</td>\n",
       "      <td>1</td>\n",
       "      <td>1</td>\n",
       "      <td>24</td>\n",
       "    </tr>\n",
       "    <tr>\n",
       "      <th>3647</th>\n",
       "      <td>Колычев</td>\n",
       "      <td>1</td>\n",
       "      <td>1</td>\n",
       "      <td>1</td>\n",
       "      <td>3</td>\n",
       "      <td>2</td>\n",
       "      <td>2</td>\n",
       "      <td>3</td>\n",
       "      <td>3</td>\n",
       "      <td>2</td>\n",
       "      <td>2</td>\n",
       "      <td>1</td>\n",
       "      <td>1</td>\n",
       "      <td>22</td>\n",
       "    </tr>\n",
       "    <tr>\n",
       "      <th>3648</th>\n",
       "      <td>Илюхина</td>\n",
       "      <td>1</td>\n",
       "      <td>3</td>\n",
       "      <td>1</td>\n",
       "      <td>1</td>\n",
       "      <td>2</td>\n",
       "      <td>2</td>\n",
       "      <td>2</td>\n",
       "      <td>3</td>\n",
       "      <td>2</td>\n",
       "      <td>2</td>\n",
       "      <td>1</td>\n",
       "      <td>1</td>\n",
       "      <td>21</td>\n",
       "    </tr>\n",
       "    <tr>\n",
       "      <th>3649</th>\n",
       "      <td>Коваценко</td>\n",
       "      <td>1</td>\n",
       "      <td>3</td>\n",
       "      <td>1</td>\n",
       "      <td>2</td>\n",
       "      <td>2</td>\n",
       "      <td>2</td>\n",
       "      <td>3</td>\n",
       "      <td>3</td>\n",
       "      <td>2</td>\n",
       "      <td>2</td>\n",
       "      <td>1</td>\n",
       "      <td>1</td>\n",
       "      <td>23</td>\n",
       "    </tr>\n",
       "  </tbody>\n",
       "</table>\n",
       "</div>"
      ],
      "text/plain": [
       "      Last name 25 26 27 28 29 30 31 32 33 34 35 36 summa\n",
       "3645     Ившина  1  3  1  1  1  1  2  2  1  2  1  1    17\n",
       "3646   Колачева  1  3  1  3  2  2  3  3  2  2  1  1    24\n",
       "3647    Колычев  1  1  1  3  2  2  3  3  2  2  1  1    22\n",
       "3648    Илюхина  1  3  1  1  2  2  2  3  2  2  1  1    21\n",
       "3649  Коваценко  1  3  1  2  2  2  3  3  2  2  1  1    23"
      ]
     },
     "execution_count": 26,
     "metadata": {},
     "output_type": "execute_result"
    }
   ],
   "source": [
    "#готовим шапку таблицы\n",
    "df3 = pd.DataFrame(columns=['Last name'] + [str(i) for i in range(left,right)]+['summa'])\n",
    "for t,k in enumerate(df2['result_2']):\n",
    "    buf = [int(k[j]) for j in range(0,len(k),4)]\n",
    "    df3.loc[t] = [table2['Last name'][t]]+[j for j in buf]+[sum(buf)]\n",
    "row = t+1\n",
    "df3[-5:]"
   ]
  },
  {
   "cell_type": "code",
   "execution_count": 27,
   "metadata": {},
   "outputs": [
    {
     "data": {
      "text/html": [
       "<div>\n",
       "<style scoped>\n",
       "    .dataframe tbody tr th:only-of-type {\n",
       "        vertical-align: middle;\n",
       "    }\n",
       "\n",
       "    .dataframe tbody tr th {\n",
       "        vertical-align: top;\n",
       "    }\n",
       "\n",
       "    .dataframe thead th {\n",
       "        text-align: right;\n",
       "    }\n",
       "</style>\n",
       "<table border=\"1\" class=\"dataframe\">\n",
       "  <thead>\n",
       "    <tr style=\"text-align: right;\">\n",
       "      <th></th>\n",
       "      <th>Last name</th>\n",
       "      <th>25</th>\n",
       "      <th>26</th>\n",
       "      <th>27</th>\n",
       "      <th>28</th>\n",
       "      <th>29</th>\n",
       "      <th>30</th>\n",
       "      <th>31</th>\n",
       "      <th>32</th>\n",
       "      <th>33</th>\n",
       "      <th>34</th>\n",
       "      <th>35</th>\n",
       "      <th>36</th>\n",
       "      <th>summa</th>\n",
       "    </tr>\n",
       "  </thead>\n",
       "  <tbody>\n",
       "    <tr>\n",
       "      <th>3648</th>\n",
       "      <td>Илюхина</td>\n",
       "      <td>1</td>\n",
       "      <td>3</td>\n",
       "      <td>1</td>\n",
       "      <td>1</td>\n",
       "      <td>2</td>\n",
       "      <td>2</td>\n",
       "      <td>2</td>\n",
       "      <td>3</td>\n",
       "      <td>2</td>\n",
       "      <td>2</td>\n",
       "      <td>1</td>\n",
       "      <td>1</td>\n",
       "      <td>21</td>\n",
       "    </tr>\n",
       "    <tr>\n",
       "      <th>3649</th>\n",
       "      <td>Коваценко</td>\n",
       "      <td>1</td>\n",
       "      <td>3</td>\n",
       "      <td>1</td>\n",
       "      <td>2</td>\n",
       "      <td>2</td>\n",
       "      <td>2</td>\n",
       "      <td>3</td>\n",
       "      <td>3</td>\n",
       "      <td>2</td>\n",
       "      <td>2</td>\n",
       "      <td>1</td>\n",
       "      <td>1</td>\n",
       "      <td>23</td>\n",
       "    </tr>\n",
       "    <tr>\n",
       "      <th>3650</th>\n",
       "      <td>sum</td>\n",
       "      <td>3650</td>\n",
       "      <td>9700</td>\n",
       "      <td>3550</td>\n",
       "      <td>9050</td>\n",
       "      <td>6200</td>\n",
       "      <td>5700</td>\n",
       "      <td>8750</td>\n",
       "      <td>8500</td>\n",
       "      <td>5400</td>\n",
       "      <td>5600</td>\n",
       "      <td>3650</td>\n",
       "      <td>3450</td>\n",
       "      <td></td>\n",
       "    </tr>\n",
       "  </tbody>\n",
       "</table>\n",
       "</div>"
      ],
      "text/plain": [
       "      Last name    25    26    27    28    29    30    31    32    33    34  \\\n",
       "3648    Илюхина     1     3     1     1     2     2     2     3     2     2   \n",
       "3649  Коваценко     1     3     1     2     2     2     3     3     2     2   \n",
       "3650        sum  3650  9700  3550  9050  6200  5700  8750  8500  5400  5600   \n",
       "\n",
       "        35    36 summa  \n",
       "3648     1     1    21  \n",
       "3649     1     1    23  \n",
       "3650  3650  3450        "
      ]
     },
     "execution_count": 27,
     "metadata": {},
     "output_type": "execute_result"
    }
   ],
   "source": [
    "test2=[]\n",
    "for i in range(left,right):\n",
    "    test2.append(df3[str(i)].sum())\n",
    "#test\n",
    "df3.loc[row] = ['sum']+[j for j in test2]+[' ']\n",
    "df3[-3:]"
   ]
  },
  {
   "cell_type": "code",
   "execution_count": 28,
   "metadata": {},
   "outputs": [
    {
     "data": {
      "text/html": [
       "<div>\n",
       "<style scoped>\n",
       "    .dataframe tbody tr th:only-of-type {\n",
       "        vertical-align: middle;\n",
       "    }\n",
       "\n",
       "    .dataframe tbody tr th {\n",
       "        vertical-align: top;\n",
       "    }\n",
       "\n",
       "    .dataframe thead th {\n",
       "        text-align: right;\n",
       "    }\n",
       "</style>\n",
       "<table border=\"1\" class=\"dataframe\">\n",
       "  <thead>\n",
       "    <tr style=\"text-align: right;\">\n",
       "      <th></th>\n",
       "      <th>Last name</th>\n",
       "      <th>25</th>\n",
       "      <th>26</th>\n",
       "      <th>27</th>\n",
       "      <th>28</th>\n",
       "      <th>29</th>\n",
       "      <th>30</th>\n",
       "      <th>31</th>\n",
       "      <th>32</th>\n",
       "      <th>33</th>\n",
       "      <th>34</th>\n",
       "      <th>35</th>\n",
       "      <th>36</th>\n",
       "      <th>summa</th>\n",
       "    </tr>\n",
       "  </thead>\n",
       "  <tbody>\n",
       "    <tr>\n",
       "      <th>3647</th>\n",
       "      <td>Колычев</td>\n",
       "      <td>1</td>\n",
       "      <td>1</td>\n",
       "      <td>1</td>\n",
       "      <td>3</td>\n",
       "      <td>2</td>\n",
       "      <td>2</td>\n",
       "      <td>3</td>\n",
       "      <td>3</td>\n",
       "      <td>2</td>\n",
       "      <td>2</td>\n",
       "      <td>1</td>\n",
       "      <td>1</td>\n",
       "      <td>22</td>\n",
       "    </tr>\n",
       "    <tr>\n",
       "      <th>3648</th>\n",
       "      <td>Илюхина</td>\n",
       "      <td>1</td>\n",
       "      <td>3</td>\n",
       "      <td>1</td>\n",
       "      <td>1</td>\n",
       "      <td>2</td>\n",
       "      <td>2</td>\n",
       "      <td>2</td>\n",
       "      <td>3</td>\n",
       "      <td>2</td>\n",
       "      <td>2</td>\n",
       "      <td>1</td>\n",
       "      <td>1</td>\n",
       "      <td>21</td>\n",
       "    </tr>\n",
       "    <tr>\n",
       "      <th>3649</th>\n",
       "      <td>Коваценко</td>\n",
       "      <td>1</td>\n",
       "      <td>3</td>\n",
       "      <td>1</td>\n",
       "      <td>2</td>\n",
       "      <td>2</td>\n",
       "      <td>2</td>\n",
       "      <td>3</td>\n",
       "      <td>3</td>\n",
       "      <td>2</td>\n",
       "      <td>2</td>\n",
       "      <td>1</td>\n",
       "      <td>1</td>\n",
       "      <td>23</td>\n",
       "    </tr>\n",
       "    <tr>\n",
       "      <th>3650</th>\n",
       "      <td>sum</td>\n",
       "      <td>3650</td>\n",
       "      <td>9700</td>\n",
       "      <td>3550</td>\n",
       "      <td>9050</td>\n",
       "      <td>6200</td>\n",
       "      <td>5700</td>\n",
       "      <td>8750</td>\n",
       "      <td>8500</td>\n",
       "      <td>5400</td>\n",
       "      <td>5600</td>\n",
       "      <td>3650</td>\n",
       "      <td>3450</td>\n",
       "      <td></td>\n",
       "    </tr>\n",
       "    <tr>\n",
       "      <th>3651</th>\n",
       "      <td>%</td>\n",
       "      <td>100</td>\n",
       "      <td>88.5845</td>\n",
       "      <td>97.2603</td>\n",
       "      <td>82.6484</td>\n",
       "      <td>84.9315</td>\n",
       "      <td>78.0822</td>\n",
       "      <td>79.9087</td>\n",
       "      <td>77.6256</td>\n",
       "      <td>73.9726</td>\n",
       "      <td>76.7123</td>\n",
       "      <td>100</td>\n",
       "      <td>94.5205</td>\n",
       "      <td></td>\n",
       "    </tr>\n",
       "  </tbody>\n",
       "</table>\n",
       "</div>"
      ],
      "text/plain": [
       "      Last name    25       26       27       28       29       30       31  \\\n",
       "3647    Колычев     1        1        1        3        2        2        3   \n",
       "3648    Илюхина     1        3        1        1        2        2        2   \n",
       "3649  Коваценко     1        3        1        2        2        2        3   \n",
       "3650        sum  3650     9700     3550     9050     6200     5700     8750   \n",
       "3651          %   100  88.5845  97.2603  82.6484  84.9315  78.0822  79.9087   \n",
       "\n",
       "           32       33       34    35       36 summa  \n",
       "3647        3        2        2     1        1    22  \n",
       "3648        3        2        2     1        1    21  \n",
       "3649        3        2        2     1        1    23  \n",
       "3650     8500     5400     5600  3650     3450        \n",
       "3651  77.6256  73.9726  76.7123   100  94.5205        "
      ]
     },
     "execution_count": 28,
     "metadata": {},
     "output_type": "execute_result"
    }
   ],
   "source": [
    "# тут не работает \n",
    "# функция max расчитывает самый большой балл в столбце\n",
    "B = [(i * 100 / row / max(1,max(df3[str(j)][:-1])))  for j, i in enumerate (df3.loc[row][1:-1],left)]\n",
    "df3.loc[row+1] = ['%']+[j for j in B]+[' ']\n",
    "df3[-5:]"
   ]
  },
  {
   "cell_type": "code",
   "execution_count": 29,
   "metadata": {},
   "outputs": [
    {
     "data": {
      "text/plain": [
       "(3652, 14)"
      ]
     },
     "execution_count": 29,
     "metadata": {},
     "output_type": "execute_result"
    }
   ],
   "source": [
    "df3.shape"
   ]
  },
  {
   "cell_type": "markdown",
   "metadata": {},
   "source": [
    "# Визуализация части 2"
   ]
  },
  {
   "cell_type": "code",
   "execution_count": 30,
   "metadata": {},
   "outputs": [
    {
     "data": {
      "image/png": "[encoded data removed]",
      "text/plain": [
       "<matplotlib.figure.Figure at 0x11d508c18>"
      ]
     },
     "metadata": {},
     "output_type": "display_data"
    }
   ],
   "source": [
    "# вызуализация\n",
    "q2 = df3.loc[len(df3)-1][1:-1]\n",
    "q2.plot(kind='bar'); #столбчатая диаграмма"
   ]
  },
  {
   "cell_type": "code",
   "execution_count": null,
   "metadata": {},
   "outputs": [],
   "source": []
  },
  {
   "cell_type": "code",
   "execution_count": 31,
   "metadata": {},
   "outputs": [],
   "source": [
    "import openpyxl\n",
    "writer = pd.ExcelWriter('analytics.xlsx', engine='openpyxl')\n",
    "\n",
    "if os.path.exists('analytics.xlsx'):\n",
    "    book = openpyxl.load_workbook('analytics.xlsx')\n",
    "    writer.book = book\n",
    "\n",
    "df3.to_excel(writer, sheet_name='result_2')\n",
    "writer.save()\n",
    "writer.close()"
   ]
  },
  {
   "cell_type": "code",
   "execution_count": null,
   "metadata": {},
   "outputs": [],
   "source": []
  }
 ],
 "metadata": {
  "kernelspec": {
   "display_name": "Python 3",
   "language": "python",
   "name": "python3"
  },
  "language_info": {
   "codemirror_mode": {
    "name": "ipython",
    "version": 3
   },
   "file_extension": ".py",
   "mimetype": "text/x-python",
   "name": "python",
   "nbconvert_exporter": "python",
   "pygments_lexer": "ipython3",
   "version": "3.6.4"
  }
 },
 "nbformat": 4,
 "nbformat_minor": 2
}
